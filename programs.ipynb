{
  "nbformat": 4,
  "nbformat_minor": 0,
  "metadata": {
    "colab": {
      "name": "programs.ipynb",
      "provenance": [],
      "authorship_tag": "ABX9TyMDuhgregZPbCHwyK8Dkl2g",
      "include_colab_link": true
    },
    "kernelspec": {
      "name": "python3",
      "display_name": "Python 3"
    },
    "language_info": {
      "name": "python"
    }
  },
  "cells": [
    {
      "cell_type": "markdown",
      "metadata": {
        "id": "view-in-github",
        "colab_type": "text"
      },
      "source": [
        "<a href=\"https://colab.research.google.com/github/Vasasiva-123/Basic-ML/blob/main/programs.ipynb\" target=\"_parent\"><img src=\"https://colab.research.google.com/assets/colab-badge.svg\" alt=\"Open In Colab\"/></a>"
      ]
    },
    {
      "cell_type": "code",
      "metadata": {
        "id": "naNuMDrr3Tys"
      },
      "source": [
        ""
      ],
      "execution_count": null,
      "outputs": []
    },
    {
      "cell_type": "markdown",
      "metadata": {
        "id": "Ua29A4RC3Ug1"
      },
      "source": [
        "#addition"
      ]
    },
    {
      "cell_type": "code",
      "metadata": {
        "colab": {
          "base_uri": "https://localhost:8080/"
        },
        "id": "4KGq_x6A3uHk",
        "outputId": "6c7f7687-507f-4623-c1d2-798eed5d1d97"
      },
      "source": [
        "a = int(input(\"enter a value :\"))\n",
        "b = int(input(\"enter b value :\"))\n",
        "print(a+b)"
      ],
      "execution_count": 1,
      "outputs": [
        {
          "output_type": "stream",
          "text": [
            "enter a value :5\n",
            "enter b value :6\n",
            "11\n"
          ],
          "name": "stdout"
        }
      ]
    },
    {
      "cell_type": "markdown",
      "metadata": {
        "id": "JOmqKJxJ4Vh0"
      },
      "source": [
        "#subtraction"
      ]
    },
    {
      "cell_type": "code",
      "metadata": {
        "colab": {
          "base_uri": "https://localhost:8080/"
        },
        "id": "ITzXiBV035hv",
        "outputId": "2ba243a2-1551-4a7e-8686-ba4749e1d0c1"
      },
      "source": [
        "p = int(input(\"enter p value :\"))\n",
        "q = int(input(\"enter q value :\"))\n",
        "r = p - q \n",
        "print(\"The value of r is\" ,r)"
      ],
      "execution_count": 2,
      "outputs": [
        {
          "output_type": "stream",
          "text": [
            "enter p value :12\n",
            "enter q value :3\n",
            "The value of r is 9\n"
          ],
          "name": "stdout"
        }
      ]
    },
    {
      "cell_type": "code",
      "metadata": {
        "id": "WMT_QeOs4f1s"
      },
      "source": [
        ""
      ],
      "execution_count": null,
      "outputs": []
    },
    {
      "cell_type": "markdown",
      "metadata": {
        "id": "eyeSGq1D4it0"
      },
      "source": [
        "#multiplication"
      ]
    },
    {
      "cell_type": "code",
      "metadata": {
        "colab": {
          "base_uri": "https://localhost:8080/"
        },
        "id": "XzPOaGLw4lYr",
        "outputId": "28ca804f-0ae1-48ce-f801-703b5f8aa722"
      },
      "source": [
        "x = int(input(\"Enter x value :\"))\n",
        "y = int(input(\"Enter y value :\"))\n",
        "z = x*y\n",
        "print(\"The value of z is\" ,z)"
      ],
      "execution_count": 3,
      "outputs": [
        {
          "output_type": "stream",
          "text": [
            "Enter x value :5\n",
            "Enter y value :6\n",
            "The value of z is 30\n"
          ],
          "name": "stdout"
        }
      ]
    },
    {
      "cell_type": "code",
      "metadata": {
        "id": "Fs0nASK14q1-"
      },
      "source": [
        ""
      ],
      "execution_count": null,
      "outputs": []
    }
  ]
}